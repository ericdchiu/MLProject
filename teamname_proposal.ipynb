{
 "cells": [
  {
   "cell_type": "markdown",
   "id": "97355c16-3e09-4185-975e-08c47dd06980",
   "metadata": {},
   "source": [
    "# Team Language Translation\n",
    "\n",
    "* Team member first name and last name\n",
    "* Eric Chiu\n", "* Vamsi Gabbita\n", "* JaKobe' Griffis\n", 
    "* ..."
   ]
  },
  {
   "cell_type": "markdown",
   "id": "9b9ffee2-b1b7-4925-800e-ec211afc900a",
   "metadata": {},
   "source": [
    "# Deep Learning Problem\n",
    "\n",
    "* Problem: Using deep learning to translate from english to many languages. \n",
    "* Description: We are tasked to build a machine translation system that can effectively translate English text to a wide range of targeted languages. This problem involves training a neural network to take English text as input and generate the text in various different languages.\n",
    "* Importance: The importance of a translation model from English to many languages is significant and has a lot of practical applications and benefits. For instance, global communication, the translation technology can break barriers and build bridges by givining us the ability to communicate and connect with different backgrounds. Some reasons: business expansion, cultural exchange, education, emergency services, immigration services, tourism, etc. "
   ]
  },
  {
   "cell_type": "markdown",
   "id": "88b775cf-f7b9-4a6b-9a10-38c75a4b2f74",
   "metadata": {},
   "source": [
    "# Overview of Past and Current Solution Ideas"
   ]
  },
  {
   "cell_type": "markdown",
   "id": "c0eb0048-0fc8-4ba4-b18d-8bec72da76aa",
   "metadata": {},
   "source": [
    "## State-of-the-Art Solutions\n",
    "\n",
    "* Most of the solutions are based aroung NMT(neural machine translation) models, particularly transformer based architectures.
    "* Solution 1: Transformer architecture - has been the baackbone of many advanced translation models. Transformers leverage self-attention mechanisms to consider all the words in a sentence simultaneously, making them highly effective.\n",
    "* Solution 2: Facebook introduced M2M-100, the first multilingual machine translation model that can translate between any pair of 100 languages without replying on English.\n",
    "* Solution 3: mT5 (Multilingual T5, is a model that can translate between multiple languages. It is fine tuned for machine translation tasks and multilingual applications."
   ]
  },
  {
   "cell_type": "markdown",
   "id": "e456a989-98f9-4d84-a53e-befecfeaa826",
   "metadata": {},
   "source": [
    "## Solution Ideas from Journal and Conference Papers\n",
    "\n",
    "* Solution Idea 1\n",
    "* Solution Idea 2\n",
    "* ..."
   ]
  },
  {
   "cell_type": "markdown",
   "id": "f4ae2cdf-1965-4916-921d-30c3cd35618d",
   "metadata": {},
   "source": [
    "## Solution Ideas Helpful to the Team\n",
    "\n",
    "* Solution Idea 1\n",
    "* Solution Idea 2\n",
    "* ..."
   ]
  },
  {
   "cell_type": "markdown",
   "id": "668902a1-d257-43c9-8a71-8efa09ec6b68",
   "metadata": {},
   "source": [
    "# New Solution Ideas\n",
    "\n",
    "* New Idea 1 and Justification\n",
    "* New Idea 2 and Justification\n",
    "* ..."
   ]
  },
  {
   "cell_type": "markdown",
   "id": "10c1cd67-fd29-4946-be2d-17e15c544caf",
   "metadata": {},
   "source": [
    "# Hardware, Software, and Data Needs"
   ]
  },
  {
   "cell_type": "markdown",
   "id": "5b64a74a-b9c1-4655-9dc0-542138125d86",
   "metadata": {},
   "source": [
    "## Hardware Needs\n",
    "\n",
    "* Hardware Need 1\n",
    "* Hardware Need 2\n",
    "* ..."
   ]
  },
  {
   "cell_type": "markdown",
   "id": "0fe3ce05-61b4-4a79-8950-554b6a780973",
   "metadata": {},
   "source": [
    "## Software Needs\n",
    "\n",
    "* Software Need 1\n",
    "* Software Need 2\n",
    "* ..."
   ]
  },
  {
   "cell_type": "markdown",
   "id": "919d398f-fdbc-4a79-82c3-19d4669cef16",
   "metadata": {},
   "source": [
    "## Data Needs\n",
    "\n",
    "* Data Need 1\n",
    "* Data Need 2\n",
    "* ..."
   ]
  },
  {
   "cell_type": "markdown",
   "id": "1632891f-fa71-4796-a2a6-1a9363c4fd13",
   "metadata": {},
   "source": [
    "# Work Planned to be Accomplished in the Next Submission\n",
    "\n",
    "<table>\n",
    "  <tr>\n",
    "    <th>Team Member Name</th>\n",
    "    <th>Team Member Tasks</th>\n",
    "  </tr>\n",
    "  <tr>\n",
    "    <td>Eric Chiu</td>\n",
    "    <td>\n",
    "        <ul>\n",
    "            <li>Task</li>\n",
    "            <li>Task</li>\n",
    "        </ul>\n",
    "    </td>\n",
    "  </tr>\n",
    "  <tr>\n",
    "    <td>JaKobe' Griffis</td>\n",
    "    <td>\n",
    "        <ul>\n",
    "            <li>Task</li>\n",
    "            <li>Task</li>\n",
    "        </ul>\n",
    "    </td>\n",
    "  </tr>\n",
    "    <td>Team Member First and Last Name</td>\n",
    "    <td>\n",
    "        <ul>\n",
    "            <li>Task</li>\n",
    "            <li>Task</li>\n",
    "        </ul>\n",
    "    </td>\n",
    "  </tr>\n",
    "</table>"
   ]
  },
  {
   "cell_type": "markdown",
   "id": "2449e657-3872-454e-b8eb-bfc65fdf487d",
   "metadata": {},
   "source": [
    "# Team Report\n",
    "\n",
    "<table>\n",
    "  <tr>\n",
    "    <th>Vamsi Gabbita</th>\n",
    "    <th>Deep learning problem</th>\n",
    "    <th>State of the art solutions</th>\n"
    "  </tr>\n",
    "  <tr>\n",
    "    <td>Eric Chiu</td>\n",
    "    <td>\n",
    "        <ul>\n",
    "            <li>Accomplishment</li>\n",
    "            <li>Accomplishment</li>\n",
    "        </ul>\n",
    "    </td>\n",
    "  </tr>\n",
    "  <tr>\n",
    "    <td>JaKobe' Griffis</td>\n",
    "    <td>\n",
    "        <ul>\n",
    "            <li>Accomplishment</li>\n",
    "            <li>Accomplishment</li>\n",
    "        </ul>\n",
    "    </td>\n",
    "  </tr>\n",
    "     <td>Team Member First and Last Name</td>\n",
    "     <td>\n",
    "         <ul>\n",
    "             <li>Accomplishment</li>\n",
    "             <li>Accomplishment</li>\n",
    "        </ul>\n",
    "    </td>\n",
    "  </tr>\n",
    "</table>"
   ]
  },
  {
   "cell_type": "markdown",
   "id": "97e6694c",
   "metadata": {},
   "source": [
    "# Appendix"
   ]
  },
  {
   "cell_type": "markdown",
   "id": "dcc1ea41",
   "metadata": {},
   "source": [
    "## Reference List\n",
    "\n",
    "* Reference 1: https://about.fb.com/news/2020/10/first-multilingual-machine-translation-model/\n",
    "* Reference 2: https://github.com/google-research/multilingual-t5",
    "* Reference 3: https://link.springer.com/article/10.1007/s11042-022-13428-4",
    "* Reference 4: https://huggingface.co/google/mt5-base",
    "* Reference 5: https://proceedings.neurips.cc/paper_files/paper/2017/file/3f5ee243547dee91fbd053c1c4a845aa-Paper.pdf",
   ]
  },
  {
   "cell_type": "markdown",
   "id": "f115ede3-c18b-4943-96b9-e8f595b2195e",
   "metadata": {},
   "source": [
    "## Other Material\n",
    "\n",
    "* Other Material 1\n",
    "* Other Material 2\n",
    "* ..."
   ]
  }
 ],
 "metadata": {
  "kernelspec": {
   "display_name": "Python 3 (ipykernel)",
   "language": "python",
   "name": "python3"
  },
  "language_info": {
   "codemirror_mode": {
    "name": "ipython",
    "version": 3
   },
   "file_extension": ".py",
   "mimetype": "text/x-python",
   "name": "python",
   "nbconvert_exporter": "python",
   "pygments_lexer": "ipython3",
   "version": "3.11.5"
  },
  "toc-showmarkdowntxt": true
 },
 "nbformat": 4,
 "nbformat_minor": 5
}
